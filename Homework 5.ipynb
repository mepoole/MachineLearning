{
 "cells": [
  {
   "cell_type": "markdown",
   "metadata": {},
   "source": [
    "# Homework 5\n",
    "Martha Poole\n",
    "11/29/2015"
   ]
  },
  {
   "cell_type": "markdown",
   "metadata": {},
   "source": [
    "Below is the code to chart Hinge Loss, Huberized Hinge Loss, and Misclassification error. Huberized hinge loss is similar to hinge loss with the key difference being that the \"hinge\" for the Huberized hinge appears as a smooth curve, rather than an angle at a specific point, making it differentiable. The misclassification error aligns with the hinge loss in that the the hinge loss decreases as the misclassification error approaches 0. The two functions then appear to converge at 0 for values of x greater than 1."
   ]
  },
  {
   "cell_type": "code",
   "execution_count": 1,
   "metadata": {
    "collapsed": false
   },
   "outputs": [
    {
     "data": {
      "image/png": "[encoded data removed]",
      "text/plain": [
       "<matplotlib.figure.Figure at 0x102659810>"
      ]
     },
     "metadata": {},
     "output_type": "display_data"
    }
   ],
   "source": [
    "%matplotlib inline\n",
    "import math\n",
    "import numpy as np\n",
    "import sys\n",
    "import matplotlib.pyplot as plt\n",
    "from sklearn.datasets import load_iris\n",
    "from sklearn.utils import shuffle\n",
    "from matplotlib import colors\n",
    "from sklearn.cross_validation import train_test_split\n",
    "from sklearn import preprocessing\n",
    "\n",
    "def hinge(y, t):\n",
    "\treturn max(0, 1-y*t)\n",
    "\n",
    "def huber_hinge(y, t, h):\n",
    "\tif y*t > 1+h:\n",
    "\t\treturn 0.\n",
    "\telif abs(1-y*t) <= h:\n",
    "\t\tnumerator = math.pow((1+h-y*t), 2)\n",
    "\t\tdenominator = 4.*h\n",
    "\t\treturn numerator/denominator\n",
    "\telse:\n",
    "\t\treturn 1-y*t\n",
    "\n",
    "def misclassificationError(y, t):\n",
    "\tif y*t <= 0 :\n",
    "\t\treturn 1\n",
    "\telse:\n",
    "\t\treturn 0\n",
    "    \n",
    "#prints a graph of the misclassification error, hinge loss and huber hinge loss\n",
    "def printGraph():\n",
    "\tyt = np.arange(-10, 10, 0.1)\n",
    "\tt = np.arange(0, 10, 0.1)\n",
    "\thingeOutput =[]\n",
    "\thuber_hingeOutput =[]\n",
    "\tmisclassificationOutput =[]\n",
    "\tfor val in reversed(t):\n",
    "\t\thingeOutput.append(hinge(-1, val))\n",
    "\t\thuber_hingeOutput.append(huber_hinge(-1, val, 4))\n",
    "\t\tmisclassificationOutput.append(misclassificationError(-1, val))\n",
    "\tfor val in t:\n",
    "\t\thingeOutput.append(hinge(1, val))\n",
    "\t\thuber_hingeOutput.append(huber_hinge(1, val, 4))\n",
    "\t\tmisclassificationOutput.append(misclassificationError(1, val))\n",
    "\tsplot = plt.figure(7)\n",
    "\tplt.plot(yt, hingeOutput)\n",
    "\tplt.plot(yt, huber_hingeOutput)\n",
    "\tplt.plot(yt, misclassificationOutput)\n",
    "\tplt.title(\"Hinge Loss, Huber Hinge Loss, and Misclassification Error\")\n",
    "    \n",
    "printGraph()"
   ]
  },
  {
   "cell_type": "markdown",
   "metadata": {},
   "source": [
    "Below is the gradient for the huber- hinge loss:\n",
    "\n",
    "$\\nabla{l_{huber-hinge}}:=\\left\\{\n",
    "                \\begin{array}{ll}\n",
    "                  {0} & {if \\; yt > 1 + h}\\\\\n",
    "                  {\\frac{-t(1+h-yt)}{2h}-\\frac{y(1+h-yt)}{2h}} & {if \\; \\mid1 − yt\\mid ≤ h}\\\\\n",
    "                  {-y-t} & {if \\; yt < 1 − h} \n",
    "                \\end{array}\n",
    "              \\right.$\n"
   ]
  },
  {
   "cell_type": "markdown",
   "metadata": {},
   "source": [
    "In order to prove that the huber-hinge loss function is differentiable. We will begin by computing the partial derivatives for the huber hinge loss.\n",
    "\n",
    "$\\frac{\\partial l}{\\partial y}=\\left\\{\n",
    "                \\begin{array}{ll}\n",
    "                  {0} & {if \\; yt > 1 + h}\\\\\n",
    "                  {\\frac{-t(1+h-yt)}{2h}} & {if \\; \\mid1 − yt\\mid ≤ h}\\\\\n",
    "                  {-t} & {if \\; yt < 1 − h} \n",
    "                \\end{array}\n",
    "                \\right.$\n",
    "                \n",
    "                \n",
    "$\\frac{\\partial l}{\\partial t}=\\left\\{\n",
    "                \\begin{array}{ll}\n",
    "                  {0} & {if \\; yt > 1 + h}\\\\\n",
    "                  {\\frac{-y(1+h-yt)}{2h}} & {if \\; \\mid1 − yt\\mid ≤ h}\\\\\n",
    "                  {-y} & {if \\; yt < 1 − h} \n",
    "                \\end{array}\n",
    "                \\right.$\n",
    "\n",
    "Each of these pieces are differentiable, as given by above. We need to prove that there are equal derivatives at the point where each piece meets, namely at ${yt=1+h}$ and ${yt =1-h}$\n",
    "\n",
    "For ${yt=1+h}$ on the left-hand side we have a trivial case. The derivative is 0. On the left-hand side we substitute ${yt=1+h}$ into ${\\frac{-t(1+h-yt)}{2h}}$  and we get ${\\frac{\\partial l}{\\partial y}=\\frac{-t(1+h-(1+h))}{2h}} = {\\frac{-t(0)}{2h}} = {0}$. Similarly for $\\frac{\\partial l}{\\partial t} = {\\frac{-y(1+h-yt)}{2h}} = {\\frac{-y(1+h-(1+h)}{2h}} = {\\frac{-y(0)}{2h}} = {0}$. The derivatives are equal on either side.\n",
    "\n",
    "For ${yt =1-h}$ on the right-hand side the derivative of ${\\frac{\\partial l}{\\partial y}}$ is -t. On the left-hand side for ${\\frac{\\partial l}{\\partial y}}={\\frac{-t(1+h-yt)}{2h}} = {\\frac{-t(1+h-(1-h))}{2h}} = {\\frac{-t(2h)}{2h}} = {-t}$. For $\\frac{\\partial l}{\\partial t}$ on the right-hand side the derivative is -y. On the left-hand side $\\frac{\\partial l}{\\partial t} = {\\frac{-y(1+h-yt)}{2h}} = {\\frac{-y(1+h-(1-h))}{2h}} = {\\frac{-y(2h)}{2h}} = -y$. The derivatives are equal on either side.\n",
    "\n",
    "So, we can say that the hinge-loss function is differentiable for all values of y and t."
   ]
  },
  {
   "cell_type": "markdown",
   "metadata": {},
   "source": [
    "Below is a proof of lipschitzness for the huber-hinge loss. For convenience, let us treat ${yt}$ as a single variable ${x}$. So we have the huber-hinge function defined as:\n",
    "\n",
    "${l_{huber-hinge(x)}}=\\left\\{\n",
    "                \\begin{array}{ll}\n",
    "                  {0} & {if \\; x > 1 + h}\\\\\n",
    "                  {\\frac{(1+h-x)^2}{4h}} & {if \\; \\mid1 − x\\mid ≤ h}\\\\\n",
    "                  {1-x} & {if \\; x < 1 − h} \n",
    "                \\end{array}\n",
    "              \\right.$\n",
    "            \n",
    "And we can assume that the derivative is consistent with our partial derivatives above. From page 161 of the book, we know that ${f(w_1) - f(w_2) = f'(u)(w_1 - w_2)}$. So if we can prove that our derivative is bounded, then we can prove Lipschitzness.  For ${x >1 +h}$ we know that the derivative is always equal to 0, so we have ${\\rho = 0}$. For ${\\mid1 − x\\mid ≤ h}$ our derivative is ${\\frac{-(1+h-x)}{2h}}$ which is not bounded over the entire range of x, but is in fact bounded locally for ${\\mid1 − x\\mid ≤ h}$. We substitute in ${h}$ and ${-h}$ for either end of the range. we get:  ${{\\frac{-(1+h-x)}{2h}} = {\\frac{-(h-h)}{2h}} = {0}} $ && ${{\\frac{-(1+h-x)}{2h}} = {\\frac{-(h+h)}{2h}} = {-1}}$. So ${\\rho}$ is bounded by -1 on one side, and 0 on the other. For ${x < 1 − h}$ our derivative is -1, so ${\\rho = -1}$\n"
   ]
  },
  {
   "cell_type": "markdown",
   "metadata": {},
   "source": [
    "Below is the gradient for our optimization function:\n",
    "\n",
    "$\\nabla{F(w)}:={2}{w} + \\left\\{\n",
    "                \\begin{array}{ll}\n",
    "                  {0} & {if \\; yf(x_i) > 1 + h}\\\\\n",
    "                  \\dfrac{C}{n}\\sum_{i=1}^{n}\\frac{(-yx_i)(1+h-yw^Tx_i)}{2h} & {if \\; \\mid1 − yf(x_i)\\mid ≤ h}\\\\\n",
    "                  \\dfrac{C}{n}\\sum_{i=1}^{n}{-yx_i} & {if \\; yf(x_i) < 1 − h} \n",
    "                \\end{array}\n",
    "              \\right.$\n",
    "\n",
    "Below is the python code for computing the objective function, gradient, grad_checker, and the initial gradient descent function:\n"
   ]
  },
  {
   "cell_type": "code",
   "execution_count": 2,
   "metadata": {
    "collapsed": true
   },
   "outputs": [],
   "source": [
    "def compute_obj(C, h, w, points, labels):\n",
    "\tnorm = math.pow(np.linalg.norm(w),2)\n",
    "\tsummation =0\n",
    "\tfor idx, point in enumerate(points):\n",
    "\t\tsummation +=huber_hinge(labels[idx], f(w, point), h)\n",
    "\treturn (summation/float(len(points)) * C) + norm\n",
    "\n",
    "def compute_grad(C, h, w, points, labels):\n",
    "\tgradient = 2*w\n",
    "\tfor index, point in enumerate(points):\n",
    "\t\tt = f(w, point)\n",
    "\t\ty = labels[index]\n",
    "\t\tif abs(1 -y*t) <= h:\n",
    "\t\t\tnumerator = (C * (-y * point) * (1+h - y*t))\n",
    "\t\t\tdenominator = (2.0 * h * len(points))\n",
    "\t\t\tgradient = gradient + numerator / denominator\n",
    "\t\telif y*t < 1-h :\n",
    "\t\t\tnumerator = (C * -y * point)\n",
    "\t\t\tdenominator = float(len(points))\n",
    "\t\t\tgradient = gradient + numerator / denominator\n",
    "\treturn gradient\n",
    "\n",
    "def grad_checker(C, h, w, points, labels, delta, epsilon):\n",
    "\tnumerator = compute_obj(C, h, w + epsilon * delta, points, labels) - compute_obj(C, h, w - epsilon * delta, points, labels)\n",
    "\tdenominator = 2.0 * epsilon\n",
    "\treturn numerator/denominator\n",
    "\n",
    "def my_gradient_descent(C, h, points, labels, max_iter, eta, cg, co):\n",
    "\tw = np.zeros(points[0].shape, dtype=float)\n",
    "\tfor i in range(0, max_iter):\n",
    "\t\tprint(w)\n",
    "\t\tgrad = cg(C, h, w, points, labels)\n",
    "\t\tw = w - eta* grad\n",
    "\treturn w\n"
   ]
  },
  {
   "cell_type": "markdown",
   "metadata": {},
   "source": [
    "Below are functions that generate plots illustrating misclassification of training and test sets during gradient descent iteration, the movement of w, the change in objective function per iteration, and the data points bisected by the final w vector.\n",
    "\n",
    "I have an as-yet unresolved concern about the misclassification error for the w vector. It seems that my gradient descent algorithm converges very quickly (within 1 to 2 iterations) for etas as large at 0.5 and as small as 0.0001. This was true of multiple datasets that I tried. I tried datasets that were overlapping, ones that were not, and in either case the misclassification errors were believable (i.e. for overlapping datasets, more points were misclassified, and for non-overlapping datasets, misclassification was zero). I tried varying the dimensions within a small range-- no perceivable change. I charted the movement of w also to help me understand what's happening. I also changed the w vector, to start with a vector other than a series of zeros. This produced the expected result, where it took more time for a vector that was a series of -1's to converge. \n",
    "\n",
    "Finally, I tried this with a high-dimensional dataset (500-1000 features) and found that it did take longer to converge for these datasets. \n",
    "\n",
    "My suspicion is that because my synthetic datasets have different means, when they are normalized they are easily bisected. Also starting out with a dataset with a small number of features caused the algorithm to quickly converge."
   ]
  },
  {
   "cell_type": "code",
   "execution_count": 4,
   "metadata": {
    "collapsed": false
   },
   "outputs": [
    {
     "name": "stderr",
     "output_type": "stream",
     "text": [
      "/Users/mep62/anaconda/lib/python2.7/site-packages/ipykernel/__main__.py:46: RuntimeWarning: invalid value encountered in double_scalars\n",
      "/Users/mep62/anaconda/lib/python2.7/site-packages/matplotlib/collections.py:590: FutureWarning: elementwise comparison failed; returning scalar instead, but in the future will perform elementwise comparison\n",
      "  if self._edgecolors == str('face'):\n"
     ]
    },
    {
     "data": {
      "image/png": "[encoded data removed]",
      "text/plain": [
       "<matplotlib.figure.Figure at 0x101f9dbd0>"
      ]
     },
     "metadata": {},
     "output_type": "display_data"
    },
    {
     "data": {
      "image/png": "[encoded data removed]",
      "text/plain": [
       "<matplotlib.figure.Figure at 0x102004550>"
      ]
     },
     "metadata": {},
     "output_type": "display_data"
    },
    {
     "data": {
      "image/png": "[encoded data removed]",
      "text/plain": [
       "<matplotlib.figure.Figure at 0x10838f790>"
      ]
     },
     "metadata": {},
     "output_type": "display_data"
    },
    {
     "data": {
      "image/png": "[encoded data removed]",
      "text/plain": [
       "<matplotlib.figure.Figure at 0x10a54aed0>"
      ]
     },
     "metadata": {},
     "output_type": "display_data"
    },
    {
     "data": {
      "image/png": "[encoded data removed]",
      "text/plain": [
       "<matplotlib.figure.Figure at 0x10a5e90d0>"
      ]
     },
     "metadata": {},
     "output_type": "display_data"
    }
   ],
   "source": [
    "import math\n",
    "import numpy as np\n",
    "import sys\n",
    "import matplotlib.pyplot as plt\n",
    "from sklearn.datasets import load_iris\n",
    "from sklearn.utils import shuffle\n",
    "from matplotlib import colors\n",
    "#version of gradient descent to use for plotting figures on objective function and misclassification\n",
    "def my_gd_per_iter(C, h, points, labels, max_iter, eta, cg, co, testPoints, testLabels):\n",
    "\tw = np.zeros(points[0].shape, dtype=float)\n",
    "\titers = []\n",
    "\tmisclassErrorTrain = []\n",
    "\tmisclassErrorTest =[]\n",
    "\tobjFunc = []\n",
    "\tWs = []\n",
    "\tfor i in range(0, max_iter):\n",
    "\t\titers.append(i)\n",
    "\t\tmisclass = totalMisclassificationError(points, labels, w)\n",
    "\t\tmisclassErrorTrain.append(misclass)\n",
    "\t\tmisclassTest = totalMisclassificationError(testPoints, testLabels, w)\n",
    "\t\tmisclassErrorTest.append(misclassTest)\n",
    "\t\tWs.append(w)\n",
    "\t\tobjFunc.append(compute_obj(C, h, w, points, labels))\n",
    "\t\tgrad = cg(C, h, w, points, labels)\n",
    "\t\tw = w - eta* grad\n",
    "\treturn [iters, misclassErrorTrain, misclassErrorTest, objFunc, Ws]\n",
    "\n",
    "#plot functions\n",
    "def plot_data(X, y, fig_index, w, title):\n",
    "    splot = plt.figure(2)  \n",
    "    plt.scatter(X[:, 0], X[:, 1], c=y)\n",
    "    x_w, y_w = w_for_graph(w)\n",
    "    plt.plot(x_w, y_w)\n",
    "    plt.plot()\n",
    "    plt.title(title)\n",
    "\n",
    "def f(w, x):\n",
    "\treturn np.dot(w, x)\n",
    "\n",
    "#takes w and generates x and y output for graphing\n",
    "def w_for_graph(w):\n",
    "\tx = np.arange(-10, 10, 0.1)\n",
    "\ty =[]\n",
    "\tnp.arange(-10, 10, 0.1)\n",
    "\tfor i in x:\n",
    "\t\ty.append((-w[0]/w[1])*i)\n",
    "\treturn np.array([x, y])\n",
    "\n",
    "#plots the change in w over iterations \n",
    "def plot_w(Ws):\n",
    "    splot = plt.figure(3)  \n",
    "    for w in Ws:\n",
    "\t    x_w, y_w = w_for_graph(w)\n",
    "\t    plt.plot(x_w, y_w)\n",
    "    plt.plot()\n",
    "    plt.title(\"illustration of the movement of w during 1000 iterations\")\n",
    "    \n",
    "def objFunc_vs_Iteration(objFunc, Iter):\n",
    "\tsplot = plt.figure(4)\n",
    "\tplt.plot(objFunc, Iter)\n",
    "\tplt.title(\"Objective Function vs Iterations\")\n",
    "\n",
    "def misClassTrain_vs_iteration(misTrain, Iter):\n",
    "\tsplot = plt.figure(5)\n",
    "\tplt.plot(misTrain, Iter)\n",
    "\tplt.title(\"Misclassification on Training Set vs Iterations\")\n",
    "\n",
    "def misClassTest_vs_iteration(misTest, Iter):\n",
    "\tsplot = plt.figure(6)\n",
    "\tplt.plot(misTest, Iter)\n",
    "\tplt.title(\"Misclassification on Test Set vs Iterations\")\n",
    "\n",
    "# center data and set within range [-1, +1]\n",
    "def normalize(data):\n",
    "\tpreprocessing.scale(data, 0, True, False, False)\n",
    "\tpreprocessing.MinMaxScaler((-1, 1), False).fit_transform(data)\n",
    "\treturn data\n",
    "\n",
    "# generate datasets\n",
    "#from here http://scikit-learn.org/stable/auto_examples/classification/plot_lda_qda.html#example-classification-plot-lda-qda-py\n",
    "def dataset_fixed_cov():\n",
    "    '''Generate 2 Gaussians samples with the same covariance matrix'''\n",
    "    n, dim = 500, 2\n",
    "    np.random.seed(52686)\n",
    "    C = np.array([[0., -0.23], [0.83, .23]])\n",
    "    X = np.r_[np.dot(np.random.randn(n, dim), C),\n",
    "              np.dot(np.random.randn(n, dim), C) + np.array([1, 1])]\n",
    "    y = np.hstack((np.zeros(n), np.ones(n)))\n",
    "    return X, y\n",
    "\n",
    "#hacky thing to deal with labels not being 1 or -1\n",
    "def convertLabels(labels):\n",
    "\tfor idx, label in enumerate(labels):\n",
    "\t\tif label==0:\n",
    "\t\t\tlabels[idx] =  -1\n",
    "\treturn labels\n",
    "\n",
    "def totalMisclassificationError(points, labels, w):\n",
    "\ttotal =0\n",
    "\tfor idx, point in enumerate(points):\n",
    "\t\ttotal += misclassificationError(f(point, w), labels[idx])\n",
    "\treturn total\n",
    "    \n",
    "data, labels = dataset_fixed_cov()\n",
    "train_target, test_target, train_data, test_data = train_test_split(labels, data, train_size=0.5, random_state=5261986)\n",
    "train_data = normalize(train_data)\n",
    "test_data = normalize(test_data)\n",
    "train_target = convertLabels(train_target)\n",
    "test_target = convertLabels(test_target)\n",
    "output = my_gd_per_iter(25, 25, train_data, train_target, 1000, 0.001, compute_grad, compute_obj, test_data, test_target)\n",
    "plot_data(train_data, train_target, 1, output[4][len(output[4])-1], \"Illustration of the w classifier\")\n",
    "plot_w(output[4])\n",
    "objFunc_vs_Iteration(output[0], output[3])\n",
    "misClassTrain_vs_iteration(output[0], output[1])\n",
    "misClassTest_vs_iteration(output[0], output[2])"
   ]
  },
  {
   "cell_type": "markdown",
   "metadata": {},
   "source": [
    "I ran a grid search on the best value of C for possible values of 1-20 for both a  high-dimensional data set of 1000 features, and a low-dimensional data set of 2 features. For high-dimensional data sets I found that C=1 had the least number of iterations, and C=4 had the best misclassification error value. For a low-dimensional dataset, a value of C=19 had the least misclassification errors.\n",
    "\n",
    "The source code for my best value search function is below:"
   ]
  },
  {
   "cell_type": "code",
   "execution_count": 8,
   "metadata": {
    "collapsed": false
   },
   "outputs": [
    {
     "ename": "KeyboardInterrupt",
     "evalue": "",
     "output_type": "error",
     "traceback": [
      "\u001b[0;31m---------------------------------------------------------------------------\u001b[0m",
      "\u001b[0;31mKeyboardInterrupt\u001b[0m                         Traceback (most recent call last)",
      "\u001b[0;32m<ipython-input-8-02904b40274b>\u001b[0m in \u001b[0;36m<module>\u001b[0;34m()\u001b[0m\n\u001b[1;32m     35\u001b[0m \u001b[0mtrain_target\u001b[0m \u001b[0;34m=\u001b[0m \u001b[0mconvertLabels\u001b[0m\u001b[0;34m(\u001b[0m\u001b[0mtrain_target\u001b[0m\u001b[0;34m)\u001b[0m\u001b[0;34m\u001b[0m\u001b[0m\n\u001b[1;32m     36\u001b[0m \u001b[0mtest_target\u001b[0m \u001b[0;34m=\u001b[0m \u001b[0mconvertLabels\u001b[0m\u001b[0;34m(\u001b[0m\u001b[0mtest_target\u001b[0m\u001b[0;34m)\u001b[0m\u001b[0;34m\u001b[0m\u001b[0m\n\u001b[0;32m---> 37\u001b[0;31m \u001b[0mbest_value_C\u001b[0m\u001b[0;34m(\u001b[0m\u001b[0;36m1\u001b[0m\u001b[0;34m,\u001b[0m \u001b[0mtrain_data\u001b[0m\u001b[0;34m,\u001b[0m \u001b[0mtrain_target\u001b[0m\u001b[0;34m,\u001b[0m \u001b[0mcompute_grad\u001b[0m\u001b[0;34m,\u001b[0m \u001b[0mcompute_obj\u001b[0m\u001b[0;34m)\u001b[0m\u001b[0;34m\u001b[0m\u001b[0m\n\u001b[0m\u001b[1;32m     38\u001b[0m \u001b[0;34m\u001b[0m\u001b[0m\n\u001b[1;32m     39\u001b[0m \u001b[0;31m#check for large dimensions\u001b[0m\u001b[0;34m\u001b[0m\u001b[0;34m\u001b[0m\u001b[0m\n",
      "\u001b[0;32m<ipython-input-8-02904b40274b>\u001b[0m in \u001b[0;36mbest_value_C\u001b[0;34m(h, points, labels, cg, co, max_iter, optimizationCriteria, performanceCriteria)\u001b[0m\n\u001b[1;32m      5\u001b[0m         \u001b[0mbestIterC\u001b[0m \u001b[0;34m=\u001b[0m \u001b[0;36m0\u001b[0m\u001b[0;34m\u001b[0m\u001b[0m\n\u001b[1;32m      6\u001b[0m         \u001b[0;32mfor\u001b[0m \u001b[0mi\u001b[0m \u001b[0;32min\u001b[0m \u001b[0mrange\u001b[0m\u001b[0;34m(\u001b[0m\u001b[0;36m1\u001b[0m\u001b[0;34m,\u001b[0m \u001b[0;36m20\u001b[0m\u001b[0;34m)\u001b[0m\u001b[0;34m:\u001b[0m\u001b[0;34m\u001b[0m\u001b[0m\n\u001b[0;32m----> 7\u001b[0;31m                 \u001b[0mreturnStuff\u001b[0m \u001b[0;34m=\u001b[0m \u001b[0moptimized_gradient_descent\u001b[0m\u001b[0;34m(\u001b[0m\u001b[0mi\u001b[0m\u001b[0;34m,\u001b[0m \u001b[0mh\u001b[0m\u001b[0;34m,\u001b[0m \u001b[0mpoints\u001b[0m\u001b[0;34m,\u001b[0m \u001b[0mlabels\u001b[0m\u001b[0;34m,\u001b[0m \u001b[0mcg\u001b[0m\u001b[0;34m,\u001b[0m \u001b[0mco\u001b[0m\u001b[0;34m,\u001b[0m \u001b[0mmax_iter\u001b[0m\u001b[0;34m,\u001b[0m \u001b[0moptimizationCriteria\u001b[0m\u001b[0;34m,\u001b[0m \u001b[0mperformanceCriteria\u001b[0m\u001b[0;34m)\u001b[0m\u001b[0;34m\u001b[0m\u001b[0m\n\u001b[0m\u001b[1;32m      8\u001b[0m                 \u001b[0;32mif\u001b[0m \u001b[0mreturnStuff\u001b[0m\u001b[0;34m[\u001b[0m\u001b[0;36m1\u001b[0m\u001b[0;34m]\u001b[0m \u001b[0;34m<\u001b[0m \u001b[0mbestIter\u001b[0m\u001b[0;34m:\u001b[0m\u001b[0;34m\u001b[0m\u001b[0m\n\u001b[1;32m      9\u001b[0m                         \u001b[0mbestIter\u001b[0m \u001b[0;34m=\u001b[0m \u001b[0mreturnStuff\u001b[0m\u001b[0;34m[\u001b[0m\u001b[0;36m1\u001b[0m\u001b[0;34m]\u001b[0m\u001b[0;34m\u001b[0m\u001b[0m\n",
      "\u001b[0;32m<ipython-input-6-007b3be535bc>\u001b[0m in \u001b[0;36moptimized_gradient_descent\u001b[0;34m(C, h, points, labels, cg, co, max_iter, optimizationCriteria, performanceCriteria)\u001b[0m\n\u001b[1;32m     10\u001b[0m                 \u001b[0merror\u001b[0m \u001b[0;34m=\u001b[0m \u001b[0mtotalMisclassificationError\u001b[0m\u001b[0;34m(\u001b[0m\u001b[0msubsample_data\u001b[0m\u001b[0;34m,\u001b[0m \u001b[0msubsample_target\u001b[0m\u001b[0;34m,\u001b[0m \u001b[0mw\u001b[0m\u001b[0;34m)\u001b[0m\u001b[0;34m\u001b[0m\u001b[0m\n\u001b[1;32m     11\u001b[0m                 \u001b[0miter\u001b[0m \u001b[0;34m=\u001b[0m\u001b[0mi\u001b[0m\u001b[0;34m\u001b[0m\u001b[0m\n\u001b[0;32m---> 12\u001b[0;31m                 \u001b[0mgrad\u001b[0m \u001b[0;34m=\u001b[0m \u001b[0mcg\u001b[0m\u001b[0;34m(\u001b[0m\u001b[0mC\u001b[0m\u001b[0;34m,\u001b[0m \u001b[0mh\u001b[0m\u001b[0;34m,\u001b[0m \u001b[0mw\u001b[0m\u001b[0;34m,\u001b[0m \u001b[0mpoints\u001b[0m\u001b[0;34m,\u001b[0m \u001b[0mlabels\u001b[0m\u001b[0;34m)\u001b[0m\u001b[0;34m\u001b[0m\u001b[0m\n\u001b[0m\u001b[1;32m     13\u001b[0m                 \u001b[0;32mif\u001b[0m \u001b[0moptimizationCriteria\u001b[0m\u001b[0;34m:\u001b[0m\u001b[0;34m\u001b[0m\u001b[0m\n\u001b[1;32m     14\u001b[0m                         \u001b[0;32mif\u001b[0m \u001b[0mcheckOptimizationCriteria\u001b[0m\u001b[0;34m(\u001b[0m\u001b[0mgrad\u001b[0m\u001b[0;34m,\u001b[0m \u001b[0;36m0.01\u001b[0m\u001b[0;34m)\u001b[0m\u001b[0;34m:\u001b[0m\u001b[0;34m\u001b[0m\u001b[0m\n",
      "\u001b[0;32m<ipython-input-2-75cef06ec6db>\u001b[0m in \u001b[0;36mcompute_grad\u001b[0;34m(C, h, w, points, labels)\u001b[0m\n\u001b[1;32m      9\u001b[0m         \u001b[0mgradient\u001b[0m \u001b[0;34m=\u001b[0m \u001b[0;36m2\u001b[0m\u001b[0;34m*\u001b[0m\u001b[0mw\u001b[0m\u001b[0;34m\u001b[0m\u001b[0m\n\u001b[1;32m     10\u001b[0m         \u001b[0;32mfor\u001b[0m \u001b[0mindex\u001b[0m\u001b[0;34m,\u001b[0m \u001b[0mpoint\u001b[0m \u001b[0;32min\u001b[0m \u001b[0menumerate\u001b[0m\u001b[0;34m(\u001b[0m\u001b[0mpoints\u001b[0m\u001b[0;34m)\u001b[0m\u001b[0;34m:\u001b[0m\u001b[0;34m\u001b[0m\u001b[0m\n\u001b[0;32m---> 11\u001b[0;31m                 \u001b[0mt\u001b[0m \u001b[0;34m=\u001b[0m \u001b[0mf\u001b[0m\u001b[0;34m(\u001b[0m\u001b[0mw\u001b[0m\u001b[0;34m,\u001b[0m \u001b[0mpoint\u001b[0m\u001b[0;34m)\u001b[0m\u001b[0;34m\u001b[0m\u001b[0m\n\u001b[0m\u001b[1;32m     12\u001b[0m                 \u001b[0my\u001b[0m \u001b[0;34m=\u001b[0m \u001b[0mlabels\u001b[0m\u001b[0;34m[\u001b[0m\u001b[0mindex\u001b[0m\u001b[0;34m]\u001b[0m\u001b[0;34m\u001b[0m\u001b[0m\n\u001b[1;32m     13\u001b[0m                 \u001b[0;32mif\u001b[0m \u001b[0mabs\u001b[0m\u001b[0;34m(\u001b[0m\u001b[0;36m1\u001b[0m \u001b[0;34m-\u001b[0m\u001b[0my\u001b[0m\u001b[0;34m*\u001b[0m\u001b[0mt\u001b[0m\u001b[0;34m)\u001b[0m \u001b[0;34m<=\u001b[0m \u001b[0mh\u001b[0m\u001b[0;34m:\u001b[0m\u001b[0;34m\u001b[0m\u001b[0m\n",
      "\u001b[0;32m<ipython-input-4-20ff6eae51fc>\u001b[0m in \u001b[0;36mf\u001b[0;34m(w, x)\u001b[0m\n\u001b[1;32m     36\u001b[0m \u001b[0;34m\u001b[0m\u001b[0m\n\u001b[1;32m     37\u001b[0m \u001b[0;32mdef\u001b[0m \u001b[0mf\u001b[0m\u001b[0;34m(\u001b[0m\u001b[0mw\u001b[0m\u001b[0;34m,\u001b[0m \u001b[0mx\u001b[0m\u001b[0;34m)\u001b[0m\u001b[0;34m:\u001b[0m\u001b[0;34m\u001b[0m\u001b[0m\n\u001b[0;32m---> 38\u001b[0;31m         \u001b[0;32mreturn\u001b[0m \u001b[0mnp\u001b[0m\u001b[0;34m.\u001b[0m\u001b[0mdot\u001b[0m\u001b[0;34m(\u001b[0m\u001b[0mw\u001b[0m\u001b[0;34m,\u001b[0m \u001b[0mx\u001b[0m\u001b[0;34m)\u001b[0m\u001b[0;34m\u001b[0m\u001b[0m\n\u001b[0m\u001b[1;32m     39\u001b[0m \u001b[0;34m\u001b[0m\u001b[0m\n\u001b[1;32m     40\u001b[0m \u001b[0;31m#takes w and generates x and y output for graphing\u001b[0m\u001b[0;34m\u001b[0m\u001b[0;34m\u001b[0m\u001b[0m\n",
      "\u001b[0;31mKeyboardInterrupt\u001b[0m: "
     ]
    }
   ],
   "source": [
    "def best_value_C(h, points, labels, cg, co, max_iter=1000, optimizationCriteria =False, performanceCriteria = False):\n",
    "\tbestError = sys.maxint\n",
    "\tbestErrorC = 0\n",
    "\tbestIter = sys.maxint\n",
    "\tbestIterC = 0\n",
    "\tfor i in range(1, 20):\n",
    "\t\treturnStuff = optimized_gradient_descent(i, h, points, labels, cg, co, max_iter, optimizationCriteria, performanceCriteria)\n",
    "\t\tif returnStuff[1] < bestIter:\n",
    "\t\t\tbestIter = returnStuff[1]\n",
    "\t\t\tbestIterC = i\n",
    "\t\tif returnStuff[2] < bestError:\n",
    "\t\t\tbestError = returnStuff[2]\n",
    "\t\t\tbestErrorC = i\n",
    "\tprint (\"least number of iterations is \")\n",
    "\tprint(bestIterC)\n",
    "\tprint(\"with this many iterations:\")\n",
    "\tprint(bestIter)\n",
    "\tprint(\"smallest misclassificationError is \")\n",
    "\tprint(bestErrorC)\n",
    "\tprint(\"with this many misclassifications\")\n",
    "\tprint(bestError)\n",
    "    \n",
    "def random_dataset(n, dim):\n",
    "\tnp.random.seed(0)\n",
    "\tC = np.random.rand(dim, dim)\n",
    "\tX = np.r_[np.dot(np.random.randn(n, dim), C), np.dot(np.random.randn(n, dim), C.T) + np.random.rand(1, dim)]\n",
    "\ty = np.hstack((np.zeros(n), np.ones(n)))\n",
    "\treturn X, y\n",
    "\n",
    "#check for small dimensions\n",
    "data, labels = random_dataset(500, 2)\n",
    "train_target, test_target, train_data, test_data = train_test_split(labels, data, train_size=0.5, random_state=5261986)\n",
    "train_data = normalize(train_data)\n",
    "test_data = normalize(test_data)\n",
    "train_target = convertLabels(train_target)\n",
    "test_target = convertLabels(test_target)\n",
    "best_value_C(1, train_data, train_target, compute_grad, compute_obj)\n",
    "\n",
    "#check for large dimensions\n",
    "data, labels = random_dataset(500, 1000)\n",
    "train_target, test_target, train_data, test_data = train_test_split(labels, data, train_size=0.5, random_state=5261986)\n",
    "train_data = normalize(train_data)\n",
    "test_data = normalize(test_data)\n",
    "train_target = convertLabels(train_target)\n",
    "test_target = convertLabels(test_target)"
   ]
  },
  {
   "cell_type": "markdown",
   "metadata": {},
   "source": [
    "Below is the implemenation, along with associated helper functions, of the optimized gradient descent, which uses backtracking line search, performance and optimization based criteria."
   ]
  },
  {
   "cell_type": "code",
   "execution_count": 12,
   "metadata": {
    "collapsed": false
   },
   "outputs": [
    {
     "name": "stdout",
     "output_type": "stream",
     "text": [
      "breaking because of performance\n",
      "[array([ 0.00878029,  0.04335263]), 10, 32]\n"
     ]
    }
   ],
   "source": [
    "def optimized_gradient_descent(C, h, points, labels, cg, co, max_iter = 1000, optimizationCriteria = False, performanceCriteria = False):\n",
    "\tw = np.zeros(points[0].shape, dtype=float)\n",
    "\t#create a queue for testing history of performance\n",
    "\tqueue = []\n",
    "\titer =0\n",
    "\terror = 100\n",
    "\t#create a subsample for testing misclassification error\n",
    "\tsubsample_target, subsample_data= shuffle (labels, points, n_samples = 100, random_state=5261986)\n",
    "\tfor i in range(0, max_iter):\n",
    "\t\terror = totalMisclassificationError(subsample_data, subsample_target, w)\n",
    "\t\titer =i\n",
    "\t\tgrad = cg(C, h, w, points, labels)\n",
    "\t\tif optimizationCriteria:\n",
    "\t\t\tif checkOptimizationCriteria(grad, 0.01):\n",
    "\t\t\t\tprint(\"breaking because of optimization\")\n",
    "\t\t\t\tbreak\n",
    "\t\tif performanceCriteria:\n",
    "# \t\t\tprint(\"error\")\n",
    "# \t\t\tprint(error)\n",
    "\t\t\tif len(queue) == 10:\n",
    "\t\t\t \tqueue.pop(0)\n",
    "# \t\t\t \tprint(\"error\")\n",
    "# \t\t\t \tprint(error)\n",
    "\t\t\t \tif checkPerformanceCriteria(queue, error, 0.9):\n",
    "\t\t\t \t\tprint(\"breaking because of performance\")\n",
    "\t\t\t \t\tbreak\n",
    "\t\t\tqueue.append(error)\n",
    "\t\tw = w - getBestEta(C, h, points, labels, w, grad, co)* grad\n",
    "\treturn [w, iter, error]\n",
    "\n",
    "def totalMisclassificationError(points, labels, w):\n",
    "\ttotal =0\n",
    "\tfor idx, point in enumerate(points):\n",
    "\t\ttotal += misclassificationError(f(point, w), labels[idx])\n",
    "\treturn total\n",
    "\n",
    "def misclassificationError(y, t):\n",
    "\tif y*t <= 0 :\n",
    "\t\treturn 1\n",
    "\telse:\n",
    "\t\treturn 0\n",
    "    \n",
    "# returns true if the optimization criteria has been met or exceeded, false if not\n",
    "def checkOptimizationCriteria(grad, epsilon):\n",
    "# \tprint(np.linalg.norm(grad))\n",
    "\tif np.linalg.norm(grad) <= epsilon:\n",
    "\t\treturn True\n",
    "\telse:\n",
    "\t\treturn False\n",
    "    \n",
    "#returns true if the performance criteria has been met or exceeded, false if not\n",
    "def checkPerformanceCriteria(queue, error, rho):\n",
    "\tmini =0\n",
    "\tif len(queue) == 0:\n",
    "\t\tmini = sys.maxint\n",
    "\telse:\n",
    "\t\tmini = min(queue)\n",
    "# \tprint(\"mini is\")\n",
    "# \tprint(mini)\n",
    "\tif error > rho * mini:\n",
    "\t\treturn True\n",
    "\telse:\n",
    "\t\treturn False\n",
    "    \n",
    "#implementation of backtracking line search\n",
    "def getBestEta(C, h, points, labels, w, grad, co):\n",
    "\tbest = 0.1\n",
    "\tfor k in range(0, 10):\n",
    "\t\tval = best * math.pow(1.1, k)\n",
    "\t\tif co(C, h, w- best * grad, points, labels) > co(C, h, w-val*grad, points, labels):\n",
    "\t\t\tbest = val\n",
    "\t\telse:\n",
    "\t\t\tbreak\n",
    "\treturn best\n",
    "\n",
    "data, labels = random_dataset(500, 2)\n",
    "train_target, test_target, train_data, test_data = train_test_split(labels, data, train_size=0.5, random_state=5261986)\n",
    "train_data = normalize(train_data)\n",
    "test_data = normalize(test_data)\n",
    "train_target = convertLabels(train_target)\n",
    "test_target = convertLabels(test_target)\n",
    "print(optimized_gradient_descent(1, 17, train_data, train_target, compute_grad, compute_obj, performanceCriteria=True, optimizationCriteria=True))\n"
   ]
  },
  {
   "cell_type": "markdown",
   "metadata": {},
   "source": [
    "Below is an implementation of my_svm that uses the optimized gradient descent function"
   ]
  },
  {
   "cell_type": "code",
   "execution_count": 14,
   "metadata": {
    "collapsed": false
   },
   "outputs": [
    {
     "name": "stdout",
     "output_type": "stream",
     "text": [
      "breaking because of performance\n",
      "[array([ 0.01524101,  0.04836858]), 0.648]\n"
     ]
    }
   ],
   "source": [
    "def my_svm(C, h, points, labels, cg, co, max_iter=1000, optimizationCriteria = False, performanceCriteria = False):\n",
    "\ttrain_target, test_target, train_data, test_data = train_test_split(labels, points, train_size=0.5, random_state=5261986)\n",
    "\ttest_data = normalize(test_data)\n",
    "\ttrain_data = normalize(train_data)\n",
    "\tw, iter, error = optimized_gradient_descent(C, h, train_data, train_target, cg, co, max_iter, optimizationCriteria, performanceCriteria)\n",
    "\ttotalCorrect = 0\n",
    "\ttotalIncorrect = 0\n",
    "\tfor idx, point in enumerate(test_data):\n",
    "\t\tif classifier(w, point) == test_target[idx]:\n",
    "\t\t\ttotalCorrect += 1\n",
    "\treturn [w, totalCorrect/float(len(test_data))]\n",
    "\n",
    "def classifier(w, x):\n",
    "\treturn 1 if f(w, x) > 0 else -1\n",
    "\n",
    "print(my_svm(1, 17, train_data, train_target, compute_grad, compute_obj, performanceCriteria=True, optimizationCriteria=True))"
   ]
  },
  {
   "cell_type": "markdown",
   "metadata": {},
   "source": [
    "Below is an implementation of my_sgd which incorporates performance optimization criteria:"
   ]
  },
  {
   "cell_type": "code",
   "execution_count": 18,
   "metadata": {
    "collapsed": false
   },
   "outputs": [
    {
     "name": "stdout",
     "output_type": "stream",
     "text": [
      "breaking because of performance\n",
      "[-0.01172091  0.02519548]\n"
     ]
    }
   ],
   "source": [
    "def my_sgd (C, h, points, labels, cg, co, max_iter = 1000, performanceCriteria = False):\n",
    "\tw = np.zeros(points[0].shape, dtype=float)\n",
    "\t#create a queue for testing history of performance\n",
    "\tqueue = []\n",
    "\t#create a subsample for testing misclassification error\n",
    "\tsubsample_target, subsample_data= shuffle (labels, points, n_samples = 100, random_state=5261986)\n",
    "\tfor i in range(0, max_iter):\n",
    "\t\tlabels, points = shuffle (labels, points)\n",
    "\t\tfor idx, point in enumerate(points):\n",
    "\t\t\tgrad = cg(C, h, w, point, labels[idx])\n",
    "\t\t\tif performanceCriteria:\n",
    "\t\t\t\terror = totalMisclassificationError(subsample_data, subsample_target, w)\n",
    "# \t\t\t\tprint(\"error\")\n",
    "# \t\t\t\tprint(error)\n",
    "\t\t\t\tif len(queue) == 10:\n",
    "\t\t\t\t \tqueue.pop(0)\n",
    "\t\t\t\t \tif checkPerformanceCriteria(queue, error, 0.9):\n",
    "\t\t\t\t \t\tprint(\"breaking because of performance\")\n",
    "\t\t\t\t \t\treturn w\n",
    "\t\t\t\tqueue.append(error)\n",
    "\t\t\tw = w - getBestEta(C, h, points, labels, w, grad, co)* grad\n",
    "\treturn w\n",
    "\n",
    "#helper function for computing the gradient on a specific point, used for stochastic gradient descent\n",
    "def compute_grad_point(C, h, w, point, label):\n",
    "\tgradient = 2*w\n",
    "\tt = f(w, point)\n",
    "\ty = label\n",
    "\tif abs(1 -y*t) <= h:\n",
    "\t\tnumerator = (C * (-y * point) * (1+h - y*t))\n",
    "\t\tdenominator = (2.0 * h)\n",
    "\t\tgradient = gradient + numerator / denominator\n",
    "\telif y*t < 1-h :\n",
    "\t\tnumerator = (C * -y * point)\n",
    "\t\tgradient = gradient + numerator\n",
    "\treturn gradient\n",
    "\n",
    "print(my_sgd(1, 17, train_data, train_target, compute_grad_point, compute_obj, performanceCriteria = True))"
   ]
  },
  {
   "cell_type": "markdown",
   "metadata": {},
   "source": [
    "This is the graph of the change in the objective function per epoch. As you can see it seems to oscillate unpredictably per epoch. Similarly, an additional graph below illustrates that the change in misclassification error is somewhat unpredictable from epoch to epoch, though it does seem to be an improvement over random. Note that I also tested this for 100 iterations, and small dimensionality (2) vs large(1000 features), with the results being somewhat similar. I am doubtful that this is the expected outcome (I'm wondering if there is a bug in my code). Though I suppose that a good result could be obtained if we kept the w vector from the iteration with the least misclassification error, but this presents us with little potential to optimize in terms of iterations:"
   ]
  },
  {
   "cell_type": "code",
   "execution_count": 20,
   "metadata": {
    "collapsed": false
   },
   "outputs": [
    {
     "data": {
      "image/png": "[encoded data removed]",
      "text/plain": [
       "<matplotlib.figure.Figure at 0x10b719e10>"
      ]
     },
     "metadata": {},
     "output_type": "display_data"
    },
    {
     "data": {
      "image/png": "[encoded data removed]",
      "text/plain": [
       "<matplotlib.figure.Figure at 0x10b6dae90>"
      ]
     },
     "metadata": {},
     "output_type": "display_data"
    }
   ],
   "source": [
    "#used for plotting values per epoch\n",
    "def my_sgd_per_epoch (C, h, points, labels, cg, co, max_iter = 1000, performanceCriteria = False):\n",
    "\tw = np.zeros(points[0].shape, dtype=float)\n",
    "\t#create a queue for testing history of performance\n",
    "\tqueue = []\n",
    "\t#create a subsample for testing misclassification error\n",
    "\tsubsample_target, subsample_data= shuffle (labels, points, n_samples = 100, random_state=5261986)\n",
    "\tobjFunc=[]\n",
    "\terrorPerEpoch =[]\n",
    "\tfor i in range(0, max_iter):\n",
    "\t\tobjFunc.append(compute_obj(C, h, w, points, labels))\n",
    "\t\terrorPerEpoch.append(totalMisclassificationError(points, labels, w))\n",
    "\t\tlabels, points = shuffle (labels, points)\n",
    "\t\tfor idx, point in enumerate(points):\n",
    "\t\t\tgrad = cg(C, h, w, point, labels[idx])\n",
    "\t\t\tif performanceCriteria:\n",
    "\t\t\t\terror = totalMisclassificationError(subsample_data, subsample_target, w)\n",
    "\t\t\t\tif len(queue) == 10:\n",
    "\t\t\t\t \tqueue.pop(0)\n",
    "\t\t\t\t \tprint(\"error\")\n",
    "\t\t\t\t \tprint(error)\n",
    "\t\t\t\t \tif checkPerformanceCriteria(queue, error, 0.9):\n",
    "\t\t\t\t \t\tprint(\"breaking because of performance\")\n",
    "\t\t\t\t \t\treturn w\n",
    "\t\t\t\tqueue.append(error)\n",
    "\t\t\tw = w - getBestEta(C, h, points, labels, w, grad, co)* grad\n",
    "\treturn [w, objFunc, errorPerEpoch]\n",
    "\n",
    "#plots the objective function per epoch for sgd\n",
    "def objFunc_vs_epoch(objFunc):\n",
    "\tx = np.arange(0, len(objFunc), 1.)\n",
    "\tsplot = plt.figure(8)\n",
    "\tplt.plot(x, objFunc)\n",
    "\tplt.title(\"Objective function vs epoch for SGD\")\n",
    "\n",
    "def error_vs_epoch(error):\n",
    "\tx = np.arange(0, len(error), 1.)\n",
    "\tsplot = plt.figure(10)\n",
    "\tplt.plot(x, error)\n",
    "\tplt.title(\"Misclassification Error vs epoch for SGD\")\n",
    "    \n",
    "train_target, test_target, train_data, test_data = train_test_split(labels, data, train_size=0.5, random_state=5261986)\n",
    "train_data = normalize(train_data)\n",
    "test_data = normalize(test_data)\n",
    "train_target = convertLabels(train_target)\n",
    "test_target = convertLabels(test_target)\n",
    "output = my_sgd_per_epoch (25, 25, train_data, train_target, compute_grad_point, compute_obj, max_iter =50)\n",
    "objFunc_vs_epoch(output[1])\n",
    "error_vs_epoch(output[2])"
   ]
  },
  {
   "cell_type": "markdown",
   "metadata": {},
   "source": [
    "Below is the time required to run a single epoch of the sgd algorithm on my machine, with C=1, 500 samples of 2 dimensions\n",
    "\n",
    "real\t0m3.855s\n",
    "user\t0m3.541s\n",
    "sys\t0m0.215s\n",
    "\n",
    "Below is the time required to run a single iteration of gradient descent on my machine\n",
    "\n",
    "real\t0m1.780s\n",
    "user\t0m0.743s\n",
    "sys\t0m0.296s\n",
    "\n",
    "GD seems to be much faster. I assume this is because we're not iterating through and computing the gradient point-wise (this is the only significant difference between the two algorithms).\n",
    "\n",
    "However, because my algorithm seems to converge extremely quickly, using optimizations seems advantageous, so we don't have to cycle through the max number of iterations of epochs.  With this optimization, we can expect that SGD will converge much more quickly, because we don't even need to cycle through the whole set of data points in order to short circuit and return the best w. Here is the run time performance:\n",
    "\n",
    "Below is the time required to run the performance-optimized SGD algorithm for one epoch. C=1, 500 samples of 2 dimensions:\n",
    "\n",
    "real\t0m2.300s\n",
    "user\t0m0.821s\n",
    "sys\t0m0.363s\n",
    "\n",
    "Time to run performance-optimized GD algorithm for one iteration.  C=1, 500 samples of 2 dimensions:\n",
    "\n",
    "real\t0m2.207s\n",
    "user\t0m0.946s\n",
    "sys\t0m0.319s\n",
    "\n",
    "Below is the time required to run the performance-optimized SGD algorithm for one epoch. C=1, 500 samples of 1000 dimensions:\n",
    "\n",
    "real\t0m1.707s\n",
    "user\t0m1.411s\n",
    "sys\t0m0.265s\n",
    "\n",
    "Time to run performance-optimized GD algorithm for one iteration. C= 1, 500 samples, 1000 dimensions:\n",
    "\n",
    "real\t0m5.386s\n",
    "user\t0m1.680s\n",
    "sys\t0m0.587s\n",
    "\n",
    "Time to run performance and gradient-optimized GD algorithm for one iteration. C= 1, 500 samples, 1000 dimensions:\n",
    "real\t0m1.857s\n",
    "user\t0m1.553s\n",
    "sys\t0m0.272s\n",
    "\n",
    "Time required to run the performance-optimized SGD algorithm for one epoch. C=1, 10000 samples of 1000 dimensions:\n",
    "real\t0m9.802s\n",
    "user\t0m13.021s\n",
    "sys\t0m0.833s\n",
    "\n",
    "Time to run performance-optimized GD algorithm for one iteration. C= 1, 10000 samples, 1000 dimensions:\n",
    "real\t0m12.804s\n",
    "user\t0m16.370s\n",
    "sys\t0m0.768s\n",
    "\n",
    "Time to run performance and gradient-optimized GD algorithm for one iteration. C= 1, 10000 samples, 1000 dimensions:\n",
    "real\t0m11.422s\n",
    "user\t0m15.567s\n",
    "sys\t0m0.707s\n",
    "\n",
    "So it appears that SGD beats out GD as the sample size increases and the dimensionality increases. However, in some cases where multiple performance criteria are used, gradient descent can perform at par with stochastic gradient descent."
   ]
  },
  {
   "cell_type": "markdown",
   "metadata": {},
   "source": [
    "Feedback:\n",
    "\n",
    "It took me many hours to complete this assignment. It was easy to get stuck on some bug or issue and have to write multiple plots and outputs to verify issues. (Some of these I detailed above). I would estimate I spent between 30-40 hours on this assignment. \n",
    "\n",
    "I was suprised by the outcome of the classification error for my gradient descent and stochastic gradient descent algorithms. I am curious to confirm or reject my findings. "
   ]
  }
 ],
 "metadata": {
  "kernelspec": {
   "display_name": "Python 2",
   "language": "python",
   "name": "python2"
  },
  "language_info": {
   "codemirror_mode": {
    "name": "ipython",
    "version": 2
   },
   "file_extension": ".py",
   "mimetype": "text/x-python",
   "name": "python",
   "nbconvert_exporter": "python",
   "pygments_lexer": "ipython2",
   "version": "2.7.10"
  }
 },
 "nbformat": 4,
 "nbformat_minor": 0
}
